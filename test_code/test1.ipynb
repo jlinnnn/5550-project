{
 "cells": [
  {
   "cell_type": "code",
   "execution_count": 1,
   "metadata": {},
   "outputs": [
    {
     "name": "stdout",
     "output_type": "stream",
     "text": [
      "Hello\n"
     ]
    }
   ],
   "source": [
    "print(\"Hello\")"
   ]
  },
  {
   "cell_type": "code",
   "execution_count": 2,
   "metadata": {},
   "outputs": [],
   "source": [
    "import pandas as pd\n",
    "import numpy as np\n",
    "import matplotlib.pyplot as plt\n",
    "import time\n",
    "from sklearn.ensemble import RandomForestRegressor, RandomForestClassifier\n",
    "from sklearn.model_selection import train_test_split\n",
    "from sklearn.metrics import mean_absolute_error, r2_score, accuracy_score\n",
    "from codecarbon import EmissionsTracker"
   ]
  },
  {
   "cell_type": "code",
   "execution_count": 3,
   "metadata": {},
   "outputs": [
    {
     "name": "stdout",
     "output_type": "stream",
     "text": [
      "    Storm_Names Class_Category  Max_Winds(kt.)  Min_Pressure(mb.)  \\\n",
      "0        Arlene             TS              45                990   \n",
      "1          Bret             TS              40               1007   \n",
      "2         Cindy             TS              50                991   \n",
      "3          Four             TD              25               1009   \n",
      "4           Don             TS              45               1005   \n",
      "..          ...            ...             ...                ...   \n",
      "138    Philippe             TS              50                998   \n",
      "139        Rina             TS              45                999   \n",
      "140        Sean             TS              40               1005   \n",
      "141       Tammy              H              95                965   \n",
      "142  Twenty-One             TD              25               1007   \n",
      "\n",
      "     200-850_hPA Shear(kt.)  Sea_Surface_Temp(Celsius)  Humidity(%)  Year  \\\n",
      "0                      17.0                       20.0         45.0  2017   \n",
      "1                      35.0                       27.5         75.0  2017   \n",
      "2                       5.0                       26.5         50.0  2017   \n",
      "3                      15.0                       28.5         45.0  2017   \n",
      "4                      20.0                       28.0         55.0  2017   \n",
      "..                      ...                        ...          ...   ...   \n",
      "138                    33.0                       27.0         70.0  2023   \n",
      "139                    23.0                       28.0         65.0  2023   \n",
      "140                    13.0                       28.5         45.0  2023   \n",
      "141                    33.0                       25.5         40.0  2023   \n",
      "142                    10.0                       26.5         75.0  2023   \n",
      "\n",
      "    Months  \n",
      "0      Apr  \n",
      "1      Jun  \n",
      "2      Jun  \n",
      "3      Jul  \n",
      "4      Jul  \n",
      "..     ...  \n",
      "138    Sep  \n",
      "139    Sep  \n",
      "140    Oct  \n",
      "141    Oct  \n",
      "142    Oct  \n",
      "\n",
      "[143 rows x 9 columns]\n"
     ]
    }
   ],
   "source": [
    "hur_df = pd.read_csv(\"../clean_data/all_hurricane_wo_effects.csv\")\n",
    "print(hur_df)"
   ]
  }
 ],
 "metadata": {
  "kernelspec": {
   "display_name": "dsan5000",
   "language": "python",
   "name": "python3"
  },
  "language_info": {
   "codemirror_mode": {
    "name": "ipython",
    "version": 3
   },
   "file_extension": ".py",
   "mimetype": "text/x-python",
   "name": "python",
   "nbconvert_exporter": "python",
   "pygments_lexer": "ipython3",
   "version": "3.12.6"
  }
 },
 "nbformat": 4,
 "nbformat_minor": 2
}
